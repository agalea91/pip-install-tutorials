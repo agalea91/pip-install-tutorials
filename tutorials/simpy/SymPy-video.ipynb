{
 "cells": [
  {
   "cell_type": "code",
   "execution_count": 1,
   "metadata": {
    "collapsed": false
   },
   "outputs": [
    {
     "data": {
      "text/plain": [
       "'3.5.1 |Continuum Analytics, Inc.| (default, Jan 29 2016, 15:01:46) [MSC v.1900 64 bit (AMD64)]'"
      ]
     },
     "execution_count": 1,
     "metadata": {},
     "output_type": "execute_result"
    }
   ],
   "source": [
    "import sys\n",
    "sys.path.append('C:\\Anaconda3\\Lib\\site-packages') # Link to my local libraries\n",
    "import numpy as np\n",
    "import matplotlib.pyplot as plt\n",
    "plt.style.use('seaborn-whitegrid')\n",
    "%matplotlib inline\n",
    "sys.version"
   ]
  },
  {
   "cell_type": "markdown",
   "metadata": {},
   "source": [
    "Author: Alex Galea   \n",
    "Date: September, 2016"
   ]
  },
  {
   "cell_type": "markdown",
   "metadata": {},
   "source": [
    "## SymPy Tutorial"
   ]
  },
  {
   "cell_type": "markdown",
   "metadata": {},
   "source": [
    "SymPy can be installed with\n",
    "\n",
    "`pip install sympy`\n",
    "\n",
    "To easily check if the package is already installed or has installed properly, boot up the python interpreter and try to import it."
   ]
  },
  {
   "cell_type": "markdown",
   "metadata": {},
   "source": [
    "Here is the mantra of SymPy (from the docs):\n",
    "\n",
    "Symbolic computation deals with the computation of mathematical objects symbolically. This means that the mathematical objects are represented exactly, not approximately, and mathematical expressions with unevaluated variables are left in symbolic form."
   ]
  },
  {
   "cell_type": "code",
   "execution_count": 3,
   "metadata": {
    "collapsed": false
   },
   "outputs": [],
   "source": [
    "from sympy import *"
   ]
  },
  {
   "cell_type": "markdown",
   "metadata": {},
   "source": [
    "In this tutorial we will see:\n",
    " - create and use symbolic equations and functions   \n",
    " - evaluate analytic derivatives and integrals\n",
    " - take limits, taylor series expansions\n",
    " - solving equations\n",
    " - LaTeX printing and code building"
   ]
  },
  {
   "cell_type": "markdown",
   "metadata": {},
   "source": [
    "### Datatypes, constants, built-in functions"
   ]
  },
  {
   "cell_type": "markdown",
   "metadata": {},
   "source": [
    "__Constants__"
   ]
  },
  {
   "cell_type": "code",
   "execution_count": 5,
   "metadata": {
    "collapsed": false
   },
   "outputs": [
    {
     "data": {
      "text/plain": [
       "(pi, sympy.core.numbers.Pi, 3.14159265358979323846264338328)"
      ]
     },
     "execution_count": 5,
     "metadata": {},
     "output_type": "execute_result"
    }
   ],
   "source": [
    "pi, type(pi), pi.evalf(30)"
   ]
  },
  {
   "cell_type": "code",
   "execution_count": 6,
   "metadata": {
    "collapsed": false
   },
   "outputs": [
    {
     "data": {
      "text/plain": [
       "True"
      ]
     },
     "execution_count": 6,
     "metadata": {},
     "output_type": "execute_result"
    }
   ],
   "source": [
    "pi.evalf() == np.pi"
   ]
  },
  {
   "cell_type": "code",
   "execution_count": 12,
   "metadata": {
    "collapsed": false
   },
   "outputs": [
    {
     "data": {
      "text/plain": [
       "(oo, True)"
      ]
     },
     "execution_count": 12,
     "metadata": {},
     "output_type": "execute_result"
    }
   ],
   "source": [
    "oo, oo > 10e15"
   ]
  },
  {
   "cell_type": "markdown",
   "metadata": {},
   "source": [
    "___\n",
    "__Complex numbers__"
   ]
  },
  {
   "cell_type": "code",
   "execution_count": 13,
   "metadata": {
    "collapsed": false
   },
   "outputs": [
    {
     "data": {
      "text/plain": [
       "2 + 4*I"
      ]
     },
     "execution_count": 13,
     "metadata": {},
     "output_type": "execute_result"
    }
   ],
   "source": [
    "complex_number = 2 + 4*I\n",
    "complex_number"
   ]
  },
  {
   "cell_type": "code",
   "execution_count": 16,
   "metadata": {
    "collapsed": false
   },
   "outputs": [
    {
     "data": {
      "text/plain": [
       "-12 + 16*I"
      ]
     },
     "execution_count": 16,
     "metadata": {},
     "output_type": "execute_result"
    }
   ],
   "source": [
    "expand(complex_number**2)"
   ]
  },
  {
   "cell_type": "markdown",
   "metadata": {},
   "source": [
    "___\n",
    "__Trigonometric functions__"
   ]
  },
  {
   "cell_type": "code",
   "execution_count": 17,
   "metadata": {
    "collapsed": false
   },
   "outputs": [
    {
     "data": {
      "text/plain": [
       "(1, -0.725932304200140)"
      ]
     },
     "execution_count": 17,
     "metadata": {},
     "output_type": "execute_result"
    }
   ],
   "source": [
    "cos(2*pi), cos(3.9)"
   ]
  },
  {
   "cell_type": "code",
   "execution_count": 18,
   "metadata": {
    "collapsed": false
   },
   "outputs": [
    {
     "data": {
      "text/plain": [
       "(cos(4), -0.653643620863612)"
      ]
     },
     "execution_count": 18,
     "metadata": {},
     "output_type": "execute_result"
    }
   ],
   "source": [
    "cos(4), cos(4).evalf()"
   ]
  },
  {
   "cell_type": "code",
   "execution_count": 107,
   "metadata": {
    "collapsed": false
   },
   "outputs": [
    {
     "data": {
      "image/png": "[encoded data removed]",
      "text/latex": [
       "$$\\sin{\\left (0.4 \\pi \\right )}$$"
      ],
      "text/plain": [
       "sin(0.4⋅π)"
      ]
     },
     "execution_count": 107,
     "metadata": {},
     "output_type": "execute_result"
    }
   ],
   "source": [
    "sin(4.4*pi)"
   ]
  },
  {
   "cell_type": "code",
   "execution_count": 23,
   "metadata": {
    "collapsed": false
   },
   "outputs": [
    {
     "data": {
      "text/plain": [
       "True"
      ]
     },
     "execution_count": 23,
     "metadata": {},
     "output_type": "execute_result"
    }
   ],
   "source": [
    "x = 54003\n",
    "sin(x*pi) == sin(x*pi - 2*pi)"
   ]
  },
  {
   "cell_type": "code",
   "execution_count": 24,
   "metadata": {
    "collapsed": false
   },
   "outputs": [
    {
     "ename": "TypeError",
     "evalue": "data type not understood",
     "output_type": "error",
     "traceback": [
      "\u001b[1;31m---------------------------------------------------------------------------\u001b[0m",
      "\u001b[1;31mTypeError\u001b[0m                                 Traceback (most recent call last)",
      "\u001b[1;32m<ipython-input-24-9f6562176a65>\u001b[0m in \u001b[0;36m<module>\u001b[1;34m()\u001b[0m\n\u001b[1;32m----> 1\u001b[1;33m \u001b[0mx\u001b[0m \u001b[1;33m=\u001b[0m \u001b[0mnp\u001b[0m\u001b[1;33m.\u001b[0m\u001b[0mlinspace\u001b[0m\u001b[1;33m(\u001b[0m\u001b[1;36m0\u001b[0m\u001b[1;33m,\u001b[0m \u001b[1;36m3\u001b[0m\u001b[1;33m*\u001b[0m\u001b[0mpi\u001b[0m\u001b[1;33m.\u001b[0m\u001b[0mevalf\u001b[0m\u001b[1;33m(\u001b[0m\u001b[1;33m)\u001b[0m\u001b[1;33m,\u001b[0m \u001b[1;36m50\u001b[0m\u001b[1;33m)\u001b[0m\u001b[1;33m\u001b[0m\u001b[0m\n\u001b[0m",
      "\u001b[1;32mC:\\Anaconda3\\Lib\\site-packages\\numpy\\core\\function_base.py\u001b[0m in \u001b[0;36mlinspace\u001b[1;34m(start, stop, num, endpoint, retstep, dtype)\u001b[0m\n\u001b[0;32m     91\u001b[0m     \u001b[0mstop\u001b[0m \u001b[1;33m=\u001b[0m \u001b[0mstop\u001b[0m \u001b[1;33m*\u001b[0m \u001b[1;36m1.\u001b[0m\u001b[1;33m\u001b[0m\u001b[0m\n\u001b[0;32m     92\u001b[0m \u001b[1;33m\u001b[0m\u001b[0m\n\u001b[1;32m---> 93\u001b[1;33m     \u001b[0mdt\u001b[0m \u001b[1;33m=\u001b[0m \u001b[0mresult_type\u001b[0m\u001b[1;33m(\u001b[0m\u001b[0mstart\u001b[0m\u001b[1;33m,\u001b[0m \u001b[0mstop\u001b[0m\u001b[1;33m,\u001b[0m \u001b[0mfloat\u001b[0m\u001b[1;33m(\u001b[0m\u001b[0mnum\u001b[0m\u001b[1;33m)\u001b[0m\u001b[1;33m)\u001b[0m\u001b[1;33m\u001b[0m\u001b[0m\n\u001b[0m\u001b[0;32m     94\u001b[0m     \u001b[1;32mif\u001b[0m \u001b[0mdtype\u001b[0m \u001b[1;32mis\u001b[0m \u001b[1;32mNone\u001b[0m\u001b[1;33m:\u001b[0m\u001b[1;33m\u001b[0m\u001b[0m\n\u001b[0;32m     95\u001b[0m         \u001b[0mdtype\u001b[0m \u001b[1;33m=\u001b[0m \u001b[0mdt\u001b[0m\u001b[1;33m\u001b[0m\u001b[0m\n",
      "\u001b[1;31mTypeError\u001b[0m: data type not understood"
     ]
    }
   ],
   "source": [
    "x = np.linspace(0, 3*pi.evalf(), 50)"
   ]
  },
  {
   "cell_type": "code",
   "execution_count": 25,
   "metadata": {
    "collapsed": false
   },
   "outputs": [
    {
     "data": {
      "text/plain": [
       "sympy.core.numbers.Float"
      ]
     },
     "execution_count": 25,
     "metadata": {},
     "output_type": "execute_result"
    }
   ],
   "source": [
    "type(3*pi.evalf())"
   ]
  },
  {
   "cell_type": "code",
   "execution_count": 26,
   "metadata": {
    "collapsed": false
   },
   "outputs": [
    {
     "data": {
      "text/plain": [
       "(9.42477796076938, float)"
      ]
     },
     "execution_count": 26,
     "metadata": {},
     "output_type": "execute_result"
    }
   ],
   "source": [
    "float(3*pi), type(float(3*pi))"
   ]
  },
  {
   "cell_type": "code",
   "execution_count": 27,
   "metadata": {
    "collapsed": false
   },
   "outputs": [
    {
     "data": {
      "text/plain": [
       "[<matplotlib.lines.Line2D at 0x138d2725710>]"
      ]
     },
     "execution_count": 27,
     "metadata": {},
     "output_type": "execute_result"
    },
    {
     "data": {
      "image/png": "[encoded data removed]",
      "text/plain": [
       "<matplotlib.figure.Figure at 0x138d2635f60>"
      ]
     },
     "metadata": {},
     "output_type": "display_data"
    }
   ],
   "source": [
    "x = np.linspace(0, float(3*pi), 50)\n",
    "plt.plot(x, [sin(x_i) for x_i in x])"
   ]
  },
  {
   "cell_type": "markdown",
   "metadata": {},
   "source": [
    "___\n",
    "__Other built-in functions__"
   ]
  },
  {
   "cell_type": "code",
   "execution_count": 28,
   "metadata": {
    "collapsed": false
   },
   "outputs": [
    {
     "data": {
      "text/plain": [
       "(exp(59), 4.64305555898613e+25)"
      ]
     },
     "execution_count": 28,
     "metadata": {},
     "output_type": "execute_result"
    }
   ],
   "source": [
    "exp(59), exp(59.1)"
   ]
  },
  {
   "cell_type": "code",
   "execution_count": 29,
   "metadata": {
    "collapsed": false
   },
   "outputs": [
    {
     "data": {
      "text/plain": [
       "(exp, sympy.core.numbers.Float)"
      ]
     },
     "execution_count": 29,
     "metadata": {},
     "output_type": "execute_result"
    }
   ],
   "source": [
    "type(exp(59)), type(exp(59.1))"
   ]
  },
  {
   "cell_type": "code",
   "execution_count": 30,
   "metadata": {
    "collapsed": false
   },
   "outputs": [
    {
     "data": {
      "text/plain": [
       "(exp(-3) + 3)*exp(-2)"
      ]
     },
     "execution_count": 30,
     "metadata": {},
     "output_type": "execute_result"
    }
   ],
   "source": [
    "y = exp(-2) * (2 + (1 + (exp(-3))))\n",
    "y"
   ]
  },
  {
   "cell_type": "code",
   "execution_count": 31,
   "metadata": {
    "collapsed": false
   },
   "outputs": [
    {
     "data": {
      "text/plain": [
       "exp(-5) + 3*exp(-2)"
      ]
     },
     "execution_count": 31,
     "metadata": {},
     "output_type": "execute_result"
    }
   ],
   "source": [
    "expand(y)"
   ]
  },
  {
   "cell_type": "code",
   "execution_count": 32,
   "metadata": {
    "collapsed": false
   },
   "outputs": [
    {
     "data": {
      "text/plain": [
       "True"
      ]
     },
     "execution_count": 32,
     "metadata": {},
     "output_type": "execute_result"
    }
   ],
   "source": [
    "factorial(4) == 4 * 3 * 2 * 1"
   ]
  },
  {
   "cell_type": "code",
   "execution_count": 33,
   "metadata": {
    "collapsed": false
   },
   "outputs": [
    {
     "data": {
      "text/plain": [
       "[1,\n",
       " 20,\n",
       " 190,\n",
       " 1140,\n",
       " 4845,\n",
       " 15504,\n",
       " 38760,\n",
       " 77520,\n",
       " 125970,\n",
       " 167960,\n",
       " 184756,\n",
       " 167960,\n",
       " 125970,\n",
       " 77520,\n",
       " 38760,\n",
       " 15504,\n",
       " 4845,\n",
       " 1140,\n",
       " 190,\n",
       " 20,\n",
       " 1]"
      ]
     },
     "execution_count": 33,
     "metadata": {},
     "output_type": "execute_result"
    }
   ],
   "source": [
    "n = 20\n",
    "[binomial(n, k) for k in range(n+1)]"
   ]
  },
  {
   "cell_type": "code",
   "execution_count": 34,
   "metadata": {
    "collapsed": false
   },
   "outputs": [
    {
     "data": {
      "text/plain": [
       "array([1/1048576, 5/262144, 95/524288, 285/262144, 4845/1048576, 969/65536,\n",
       "       4845/131072, 4845/65536, 62985/524288, 20995/131072, 46189/262144,\n",
       "       20995/131072, 62985/524288, 4845/65536, 4845/131072, 969/65536,\n",
       "       4845/1048576, 285/262144, 95/524288, 5/262144, 1/1048576], dtype=object)"
      ]
     },
     "execution_count": 34,
     "metadata": {},
     "output_type": "execute_result"
    }
   ],
   "source": [
    "np.array([binomial(n, k) for k in range(n+1)]) / sum([binomial(n, k) for k in range(n+1)])"
   ]
  },
  {
   "cell_type": "code",
   "execution_count": 35,
   "metadata": {
    "collapsed": false
   },
   "outputs": [
    {
     "data": {
      "text/plain": [
       "array([9.54e-7, 1.91e-5, 0.000181, 0.00109, 0.00462, 0.0148, 0.0370,\n",
       "       0.0739, 0.120, 0.160, 0.176, 0.160, 0.120, 0.0739, 0.0370, 0.0148,\n",
       "       0.00462, 0.00109, 0.000181, 1.91e-5, 9.54e-7], dtype=object)"
      ]
     },
     "execution_count": 35,
     "metadata": {},
     "output_type": "execute_result"
    }
   ],
   "source": [
    "np.array([binomial(n, k).evalf(3) for k in range(n+1)]) / sum([binomial(n, k) for k in range(n+1)])"
   ]
  },
  {
   "cell_type": "markdown",
   "metadata": {},
   "source": [
    "### Symbolic computation"
   ]
  },
  {
   "cell_type": "markdown",
   "metadata": {},
   "source": [
    "__Simple calculus__"
   ]
  },
  {
   "cell_type": "code",
   "execution_count": 36,
   "metadata": {
    "collapsed": true
   },
   "outputs": [],
   "source": [
    "symbols?"
   ]
  },
  {
   "cell_type": "code",
   "execution_count": 37,
   "metadata": {
    "collapsed": true
   },
   "outputs": [],
   "source": [
    "a, g = symbols('alpha, gamma')"
   ]
  },
  {
   "cell_type": "code",
   "execution_count": 41,
   "metadata": {
    "collapsed": false
   },
   "outputs": [
    {
     "data": {
      "text/plain": [
       "alpha**2 + 500*alpha/gamma"
      ]
     },
     "execution_count": 41,
     "metadata": {},
     "output_type": "execute_result"
    }
   ],
   "source": [
    "f = a**2 + 500 * a / g\n",
    "f"
   ]
  },
  {
   "cell_type": "code",
   "execution_count": 42,
   "metadata": {
    "collapsed": false
   },
   "outputs": [
    {
     "data": {
      "text/plain": [
       "2*alpha + 500/gamma"
      ]
     },
     "execution_count": 42,
     "metadata": {},
     "output_type": "execute_result"
    }
   ],
   "source": [
    "diff(f, a)"
   ]
  },
  {
   "cell_type": "code",
   "execution_count": 43,
   "metadata": {
    "collapsed": false
   },
   "outputs": [
    {
     "data": {
      "text/plain": [
       "-500*alpha/gamma**2"
      ]
     },
     "execution_count": 43,
     "metadata": {},
     "output_type": "execute_result"
    }
   ],
   "source": [
    "diff(f, g)"
   ]
  },
  {
   "cell_type": "code",
   "execution_count": 44,
   "metadata": {
    "collapsed": false
   },
   "outputs": [
    {
     "data": {
      "text/plain": [
       "-500/gamma**2"
      ]
     },
     "execution_count": 44,
     "metadata": {},
     "output_type": "execute_result"
    }
   ],
   "source": [
    "diff(f, g, a)"
   ]
  },
  {
   "cell_type": "code",
   "execution_count": 45,
   "metadata": {
    "collapsed": false
   },
   "outputs": [
    {
     "data": {
      "text/plain": [
       "alpha**3*gamma/3 + 250*alpha**2*log(gamma)"
      ]
     },
     "execution_count": 45,
     "metadata": {},
     "output_type": "execute_result"
    }
   ],
   "source": [
    "integrate(f, g, a)"
   ]
  },
  {
   "cell_type": "code",
   "execution_count": 46,
   "metadata": {
    "collapsed": false
   },
   "outputs": [
    {
     "data": {
      "text/plain": [
       "2/3 - 250*I*pi"
      ]
     },
     "execution_count": 46,
     "metadata": {},
     "output_type": "execute_result"
    }
   ],
   "source": [
    "result = integrate(f, (g, -1, 1), (a, 0, 1))\n",
    "result"
   ]
  },
  {
   "cell_type": "code",
   "execution_count": 47,
   "metadata": {
    "collapsed": false
   },
   "outputs": [
    {
     "data": {
      "text/plain": [
       "sympy.core.add.Add"
      ]
     },
     "execution_count": 47,
     "metadata": {},
     "output_type": "execute_result"
    }
   ],
   "source": [
    "type(result)"
   ]
  },
  {
   "cell_type": "code",
   "execution_count": 48,
   "metadata": {
    "collapsed": false
   },
   "outputs": [
    {
     "data": {
      "text/plain": [
       "((0.6666666666666666-785.3981633974483j), complex)"
      ]
     },
     "execution_count": 48,
     "metadata": {},
     "output_type": "execute_result"
    }
   ],
   "source": [
    "complex(result), type(complex(result))"
   ]
  },
  {
   "cell_type": "markdown",
   "metadata": {},
   "source": [
    "___\n",
    "__Difficult calculus__"
   ]
  },
  {
   "cell_type": "code",
   "execution_count": 50,
   "metadata": {
    "collapsed": true
   },
   "outputs": [],
   "source": [
    "r, b, c, d = symbols('r, b, c, d')\n",
    "beta = (1 + c * b * r) * (1 - exp(-d * b * r)) * exp(-b * r) / (d * b * r)"
   ]
  },
  {
   "cell_type": "code",
   "execution_count": 51,
   "metadata": {
    "collapsed": false
   },
   "outputs": [
    {
     "data": {
      "text/plain": [
       "(1 - exp(-b*d*r))*(b*c*r + 1)*exp(-b*r)/(b*d*r)"
      ]
     },
     "execution_count": 51,
     "metadata": {},
     "output_type": "execute_result"
    }
   ],
   "source": [
    "beta"
   ]
  },
  {
   "cell_type": "code",
   "execution_count": 52,
   "metadata": {
    "collapsed": false
   },
   "outputs": [
    {
     "data": {
      "text/plain": [
       "'⎛     -b⋅d⋅r⎞              -b⋅r\\n⎝1 - ℯ      ⎠⋅(b⋅c⋅r + 1)⋅ℯ    \\n───────────────────────────────\\n             b⋅d⋅r             '"
      ]
     },
     "execution_count": 52,
     "metadata": {},
     "output_type": "execute_result"
    }
   ],
   "source": [
    "pretty(beta)"
   ]
  },
  {
   "cell_type": "code",
   "execution_count": 53,
   "metadata": {
    "collapsed": false
   },
   "outputs": [
    {
     "name": "stdout",
     "output_type": "stream",
     "text": [
      "⎛     -b⋅d⋅r⎞              -b⋅r\n",
      "⎝1 - ℯ      ⎠⋅(b⋅c⋅r + 1)⋅ℯ    \n",
      "───────────────────────────────\n",
      "             b⋅d⋅r             \n"
     ]
    }
   ],
   "source": [
    "pprint(beta)"
   ]
  },
  {
   "cell_type": "code",
   "execution_count": 54,
   "metadata": {
    "collapsed": false
   },
   "outputs": [
    {
     "data": {
      "text/plain": [
       "c*(1 - exp(-b*d*r))*exp(-b*r)/(d*r) + (b*c*r + 1)*exp(-b*r)*exp(-b*d*r)/r - (1 - exp(-b*d*r))*(b*c*r + 1)*exp(-b*r)/(d*r) - (1 - exp(-b*d*r))*(b*c*r + 1)*exp(-b*r)/(b*d*r**2)"
      ]
     },
     "execution_count": 54,
     "metadata": {},
     "output_type": "execute_result"
    }
   ],
   "source": [
    "diff(beta, r)"
   ]
  },
  {
   "cell_type": "code",
   "execution_count": 55,
   "metadata": {
    "collapsed": false
   },
   "outputs": [
    {
     "data": {
      "text/plain": [
       "(b*c*Piecewise((r, Eq(b, 0)), (-exp(-b*r)/b, True)) - b*c*Piecewise((r, Or(Eq(b, 0), Eq(d, -1))), (-1/(b*d*exp(b*r)*exp(b*d*r) + b*exp(b*r)*exp(b*d*r)), True)) + Ei(b*r*exp_polar(I*pi)) - Ei(b*r*exp_polar(I*pi)*polar_lift(d + 1)))/(b*d)"
      ]
     },
     "execution_count": 55,
     "metadata": {},
     "output_type": "execute_result"
    }
   ],
   "source": [
    "integrate(beta, r)"
   ]
  },
  {
   "cell_type": "code",
   "execution_count": 58,
   "metadata": {
    "collapsed": false
   },
   "outputs": [
    {
     "data": {
      "text/plain": [
       "<function numpy.<lambda>>"
      ]
     },
     "execution_count": 58,
     "metadata": {},
     "output_type": "execute_result"
    }
   ],
   "source": [
    "beta_f = lambdify((r, b, c, d), beta)\n",
    "beta_f"
   ]
  },
  {
   "cell_type": "code",
   "execution_count": 59,
   "metadata": {
    "collapsed": false
   },
   "outputs": [
    {
     "data": {
      "text/plain": [
       "0.02247522032603958"
      ]
     },
     "execution_count": 59,
     "metadata": {},
     "output_type": "execute_result"
    }
   ],
   "source": [
    "beta_f(4, 1, 1, 1)"
   ]
  },
  {
   "cell_type": "code",
   "execution_count": 60,
   "metadata": {
    "collapsed": false
   },
   "outputs": [
    {
     "name": "stderr",
     "output_type": "stream",
     "text": [
      "C:\\Anaconda3\\Lib\\site-packages\\numpy\\__init__.py:1: RuntimeWarning: invalid value encountered in double_scalars\n",
      "  \"\"\"\n"
     ]
    },
    {
     "data": {
      "text/plain": [
       "[<matplotlib.lines.Line2D at 0x138d3b50588>]"
      ]
     },
     "execution_count": 60,
     "metadata": {},
     "output_type": "execute_result"
    },
    {
     "data": {
      "image/png": "[encoded data removed]",
      "text/plain": [
       "<matplotlib.figure.Figure at 0x138d3af7198>"
      ]
     },
     "metadata": {},
     "output_type": "display_data"
    }
   ],
   "source": [
    "b_, c_, d_ = 0.5, 3.5, 5.0\n",
    "r_ = np.linspace(0, 10, 50)\n",
    "plt.plot(r_, [beta_f(r_i, b_, c_, d_) for r_i in r_])"
   ]
  },
  {
   "cell_type": "code",
   "execution_count": 61,
   "metadata": {
    "collapsed": false
   },
   "outputs": [
    {
     "data": {
      "text/plain": [
       "0.4*(1 - exp(-2.5*r))*(1.75*r + 1)*exp(-0.5*r)/r"
      ]
     },
     "execution_count": 61,
     "metadata": {},
     "output_type": "execute_result"
    }
   ],
   "source": [
    "my_beta = beta.subs([(b, 0.5), (c, 3.5), (d, 5.0)])\n",
    "my_beta"
   ]
  },
  {
   "cell_type": "code",
   "execution_count": 62,
   "metadata": {
    "collapsed": false
   },
   "outputs": [
    {
     "data": {
      "text/plain": [
       "0"
      ]
     },
     "execution_count": 62,
     "metadata": {},
     "output_type": "execute_result"
    }
   ],
   "source": [
    "limit(my_beta, r, oo)"
   ]
  },
  {
   "cell_type": "code",
   "execution_count": 63,
   "metadata": {
    "collapsed": false
   },
   "outputs": [
    {
     "data": {
      "text/plain": [
       "1.00000000000000"
      ]
     },
     "execution_count": 63,
     "metadata": {},
     "output_type": "execute_result"
    }
   ],
   "source": [
    "limit(my_beta, r, 0)"
   ]
  },
  {
   "cell_type": "code",
   "execution_count": 66,
   "metadata": {
    "collapsed": false
   },
   "outputs": [
    {
     "name": "stdout",
     "output_type": "stream",
     "text": [
      "1.16666666666667\n",
      "Wall time: 1min 4s\n"
     ]
    }
   ],
   "source": [
    "%%time\n",
    "result = integrate(my_beta, (r, 0, oo))\n",
    "print(result.evalf())"
   ]
  },
  {
   "cell_type": "code",
   "execution_count": 69,
   "metadata": {
    "collapsed": false
   },
   "outputs": [
    {
     "name": "stdout",
     "output_type": "stream",
     "text": [
      "1.87337108107\n",
      "Wall time: 171 ms\n"
     ]
    }
   ],
   "source": [
    "%%time\n",
    "my_beta_f = lambdify(r, my_beta)\n",
    "r_ = np.arange(0.01, 1000, 0.01)\n",
    "result = np.trapz(y=[my_beta_f(r_i) for r_i in r_],\n",
    "                  x=r_)\n",
    "print(result)"
   ]
  },
  {
   "cell_type": "code",
   "execution_count": 70,
   "metadata": {
    "collapsed": false
   },
   "outputs": [
    {
     "name": "stdout",
     "output_type": "stream",
     "text": [
      "1.8733708735337 + 0.e-20*I\n",
      "Wall time: 3.28 s\n"
     ]
    }
   ],
   "source": [
    "%%time\n",
    "result = integrate(my_beta, (r, 0.01, oo))\n",
    "print(result.evalf())"
   ]
  },
  {
   "cell_type": "markdown",
   "metadata": {},
   "source": [
    "___\n",
    "__Taylor expansions__"
   ]
  },
  {
   "cell_type": "code",
   "execution_count": 72,
   "metadata": {
    "collapsed": false
   },
   "outputs": [
    {
     "name": "stdout",
     "output_type": "stream",
     "text": [
      "     3     5        \n",
      "    x     x     ⎛ 6⎞\n",
      "x - ── + ─── + O⎝x ⎠\n",
      "    6    120        \n",
      "     3     5     7       9        11          13             \n",
      "    x     x     x       x        x           x          ⎛ 15⎞\n",
      "x - ── + ─── - ──── + ────── - ──────── + ────────── + O⎝x  ⎠\n",
      "    6    120   5040   362880   39916800   6227020800         \n"
     ]
    }
   ],
   "source": [
    "x = symbols('x')\n",
    "pprint(sin(x).series(x))\n",
    "pprint(sin(x).series(x, 0, 15))"
   ]
  },
  {
   "cell_type": "code",
   "execution_count": 108,
   "metadata": {
    "collapsed": false
   },
   "outputs": [
    {
     "data": {
      "image/png": "[encoded data removed]",
      "text/latex": [
       "$$1 + r \\left(b c - \\frac{b d}{2} - b\\right) + r^{2} \\left(- \\frac{c d}{2} b^{2} - b^{2} c + \\frac{b^{2} d^{2}}{6} + \\frac{b^{2} d}{2} + \\frac{b^{2}}{2}\\right) + r^{3} \\left(\\frac{b^{3} c}{6} d^{2} + \\frac{c d}{2} b^{3} + \\frac{b^{3} c}{2} - \\frac{b^{3} d^{3}}{24} - \\frac{b^{3} d^{2}}{6} - \\frac{b^{3} d}{4} - \\frac{b^{3}}{6}\\right) + r^{4} \\left(- \\frac{b^{4} c}{24} d^{3} - \\frac{b^{4} c}{6} d^{2} - \\frac{c d}{4} b^{4} - \\frac{b^{4} c}{6} + \\frac{b^{4} d^{4}}{120} + \\frac{b^{4} d^{3}}{24} + \\frac{b^{4} d^{2}}{12} + \\frac{b^{4} d}{12} + \\frac{b^{4}}{24}\\right) + r^{5} \\left(\\frac{b^{5} c}{120} d^{4} + \\frac{b^{5} c}{24} d^{3} + \\frac{b^{5} c}{12} d^{2} + \\frac{c d}{12} b^{5} + \\frac{b^{5} c}{24} - \\frac{b^{5} d^{5}}{720} - \\frac{b^{5} d^{4}}{120} - \\frac{b^{5} d^{3}}{48} - \\frac{b^{5} d^{2}}{36} - \\frac{b^{5} d}{48} - \\frac{b^{5}}{120}\\right) + \\mathcal{O}\\left(r^{6}\\right)$$"
      ],
      "text/plain": [
       "                           ⎛   2               2  2    2      2⎞      ⎛ 3    2\n",
       "      ⎛      b⋅d    ⎞    2 ⎜  b ⋅c⋅d    2     b ⋅d    b ⋅d   b ⎟    3 ⎜b ⋅c⋅d \n",
       "1 + r⋅⎜b⋅c - ─── - b⎟ + r ⋅⎜- ────── - b ⋅c + ───── + ──── + ──⎟ + r ⋅⎜───────\n",
       "      ⎝       2     ⎠      ⎝    2               6      2     2 ⎠      ⎝   6   \n",
       "\n",
       "    3        3      3  3    3  2    3      3⎞      ⎛   4    3    4    2    4  \n",
       "   b ⋅c⋅d   b ⋅c   b ⋅d    b ⋅d    b ⋅d   b ⎟    4 ⎜  b ⋅c⋅d    b ⋅c⋅d    b ⋅c\n",
       " + ────── + ──── - ───── - ───── - ──── - ──⎟ + r ⋅⎜- ─────── - ─────── - ────\n",
       "     2       2       24      6      4     6 ⎠      ⎝     24        6        4 \n",
       "\n",
       "      4      4  4    4  3    4  2    4      4⎞      ⎛ 5    4    5    3    5   \n",
       "⋅d   b ⋅c   b ⋅d    b ⋅d    b ⋅d    b ⋅d   b ⎟    5 ⎜b ⋅c⋅d    b ⋅c⋅d    b ⋅c⋅\n",
       "── - ──── + ───── + ───── + ───── + ──── + ──⎟ + r ⋅⎜─────── + ─────── + ─────\n",
       "      6      120      24      12     12    24⎠      ⎝  120        24        12\n",
       "\n",
       " 2    5        5      5  5    5  4    5  3    5  2    5       5⎞        \n",
       "d    b ⋅c⋅d   b ⋅c   b ⋅d    b ⋅d    b ⋅d    b ⋅d    b ⋅d    b ⎟    ⎛ 6⎞\n",
       "── + ────── + ──── - ───── - ───── - ───── - ───── - ──── - ───⎟ + O⎝r ⎠\n",
       "       12      24     720     120      48      36     48    120⎠        "
      ]
     },
     "execution_count": 108,
     "metadata": {},
     "output_type": "execute_result"
    }
   ],
   "source": [
    "beta.series(r)"
   ]
  },
  {
   "cell_type": "code",
   "execution_count": 75,
   "metadata": {
    "collapsed": false
   },
   "outputs": [
    {
     "data": {
      "text/plain": [
       "1.0 - 1.27083333333333*r**2 + 1.78645833333333*r**3 - 1.55078125*r**4 + 1.01232638888889*r**5 + O(r**6)"
      ]
     },
     "execution_count": 75,
     "metadata": {},
     "output_type": "execute_result"
    }
   ],
   "source": [
    "my_beta.series(r)"
   ]
  },
  {
   "cell_type": "markdown",
   "metadata": {},
   "source": [
    "___\n",
    "__Equations and solving for unknowns__"
   ]
  },
  {
   "cell_type": "code",
   "execution_count": 76,
   "metadata": {
    "collapsed": false
   },
   "outputs": [],
   "source": [
    "x, y = symbols('x, y')\n",
    "coef = np.random.random(size=4)\n",
    "RHS = sum([c * x**i for i, c in enumerate(coef)])\n",
    "equation = Eq(y, RHS)"
   ]
  },
  {
   "cell_type": "code",
   "execution_count": 78,
   "metadata": {
    "collapsed": false
   },
   "outputs": [
    {
     "data": {
      "text/plain": [
       "0.783295433659948*x**3 + 0.918714250315763*x**2 + 0.223110905586017*x + 0.226296124385302"
      ]
     },
     "execution_count": 78,
     "metadata": {},
     "output_type": "execute_result"
    }
   ],
   "source": [
    "RHS"
   ]
  },
  {
   "cell_type": "code",
   "execution_count": 79,
   "metadata": {
    "collapsed": false
   },
   "outputs": [
    {
     "data": {
      "text/plain": [
       "(sympy.core.add.Add, sympy.core.relational.Equality)"
      ]
     },
     "execution_count": 79,
     "metadata": {},
     "output_type": "execute_result"
    }
   ],
   "source": [
    "type(RHS), type(equation)"
   ]
  },
  {
   "cell_type": "code",
   "execution_count": 83,
   "metadata": {
    "collapsed": false
   },
   "outputs": [
    {
     "name": "stdout",
     "output_type": "stream",
     "text": [
      "                       3                      2                               \n",
      "y = 0.783295433659948⋅x  + 0.918714250315763⋅x  + 0.223110905586017⋅x + 0.2262\n",
      "\n",
      "           \n",
      "96124385302\n"
     ]
    }
   ],
   "source": [
    "equation"
   ]
  },
  {
   "cell_type": "code",
   "execution_count": 109,
   "metadata": {
    "collapsed": false
   },
   "outputs": [
    {
     "data": {
      "image/png": "[encoded data removed]",
      "text/latex": [
       "$$y = 0.733538724159242$$"
      ],
      "text/plain": [
       "y = 0.733538724159242"
      ]
     },
     "execution_count": 109,
     "metadata": {},
     "output_type": "execute_result"
    }
   ],
   "source": [
    "my_eqn = equation.subs([(x, 0)])\n",
    "my_eqn"
   ]
  },
  {
   "cell_type": "code",
   "execution_count": 87,
   "metadata": {
    "collapsed": false
   },
   "outputs": [
    {
     "data": {
      "text/plain": [
       "0.226296124385302"
      ]
     },
     "execution_count": 87,
     "metadata": {},
     "output_type": "execute_result"
    }
   ],
   "source": [
    "my_y = solve(my_eqn, y)[0]\n",
    "my_y"
   ]
  },
  {
   "cell_type": "code",
   "execution_count": 90,
   "metadata": {
    "collapsed": false
   },
   "outputs": [
    {
     "name": "stdout",
     "output_type": "stream",
     "text": [
      "                       3                      2                               \n",
      "0 = 0.783295433659948⋅x  + 0.918714250315763⋅x  + 0.223110905586017⋅x + 0.2262\n",
      "\n",
      "           \n",
      "96124385302\n"
     ]
    }
   ],
   "source": [
    "my_eqn = equation.subs([(y, 0)])\n",
    "my_eqn"
   ]
  },
  {
   "cell_type": "code",
   "execution_count": 112,
   "metadata": {
    "collapsed": false
   },
   "outputs": [
    {
     "data": {
      "image/png": "[encoded data removed]",
      "text/latex": [
       "$$\\left [ \\right ]$$"
      ],
      "text/plain": [
       "[]"
      ]
     },
     "execution_count": 112,
     "metadata": {},
     "output_type": "execute_result"
    }
   ],
   "source": [
    "my_x = solve(my_eqn, x)\n",
    "my_x"
   ]
  },
  {
   "cell_type": "code",
   "execution_count": 92,
   "metadata": {
    "collapsed": false
   },
   "outputs": [
    {
     "data": {
      "text/plain": [
       "False"
      ]
     },
     "execution_count": 92,
     "metadata": {},
     "output_type": "execute_result"
    }
   ],
   "source": [
    "equation.subs([(y, 0), (x, 0)])"
   ]
  },
  {
   "cell_type": "code",
   "execution_count": 111,
   "metadata": {
    "collapsed": false
   },
   "outputs": [
    {
     "name": "stdout",
     "output_type": "stream",
     "text": [
      "-1.40611128354356\n",
      "0.663803877189331 - 0.32121145299242*I\n",
      "0.663803877189331 + 0.32121145299242*I\n"
     ]
    }
   ],
   "source": [
    "# What do the roots give when plugged in?\n",
    "print(solve(equation.subs([(x, my_x[0])]), y)[0])\n",
    "print(solve(equation.subs([(x, my_x[1])]), y)[0])\n",
    "print(solve(equation.subs([(x, my_x[2])]), y)[0])"
   ]
  },
  {
   "cell_type": "markdown",
   "metadata": {},
   "source": [
    "### Pretty printing"
   ]
  },
  {
   "cell_type": "code",
   "execution_count": 97,
   "metadata": {
    "collapsed": false
   },
   "outputs": [
    {
     "name": "stdout",
     "output_type": "stream",
     "text": [
      "IPython console for SymPy 1.0 (Python 3.5.1-64-bit) (ground types: python)\n",
      "\n",
      "These commands were executed:\n",
      ">>> from __future__ import division\n",
      ">>> from sympy import *\n",
      ">>> x, y, z, t = symbols('x y z t')\n",
      ">>> k, m, n = symbols('k m n', integer=True)\n",
      ">>> f, g, h = symbols('f g h', cls=Function)\n",
      ">>> init_printing()\n",
      "\n",
      "Documentation can be found at http://docs.sympy.org/1.0/\n"
     ]
    }
   ],
   "source": [
    "init_session()"
   ]
  },
  {
   "cell_type": "code",
   "execution_count": 98,
   "metadata": {
    "collapsed": false
   },
   "outputs": [
    {
     "data": {
      "image/png": "[encoded data removed]",
      "text/latex": [
       "$$y = 0.979173939938694 x^{3} + 0.268119149539736 x^{2} + 0.893564131571289 x + 0.733538724159242$$"
      ],
      "text/plain": [
       "                       3                      2                               \n",
       "y = 0.979173939938694⋅x  + 0.268119149539736⋅x  + 0.893564131571289⋅x + 0.7335\n",
       "\n",
       "           \n",
       "38724159242"
      ]
     },
     "execution_count": 98,
     "metadata": {},
     "output_type": "execute_result"
    }
   ],
   "source": [
    "x, y = symbols('x, y')\n",
    "coef = np.random.random(size=4)\n",
    "RHS = sum([c * x**i for i, c in enumerate(coef)])\n",
    "equation = Eq(y, RHS)\n",
    "equation"
   ]
  },
  {
   "cell_type": "code",
   "execution_count": 99,
   "metadata": {
    "collapsed": false
   },
   "outputs": [
    {
     "data": {
      "image/png": "[encoded data removed]",
      "text/latex": [
       "$$\\frac{e^{- b r}}{b d r} \\left(1 - e^{- b d r}\\right) \\left(b c r + 1\\right)$$"
      ],
      "text/plain": [
       "⎛     -b⋅d⋅r⎞              -b⋅r\n",
       "⎝1 - ℯ      ⎠⋅(b⋅c⋅r + 1)⋅ℯ    \n",
       "───────────────────────────────\n",
       "             b⋅d⋅r             "
      ]
     },
     "execution_count": 99,
     "metadata": {},
     "output_type": "execute_result"
    }
   ],
   "source": [
    "r, b, c, d = symbols('r, b, c, d')\n",
    "beta = (1 + c * b * r) * (1 - exp(-d * b * r)) * exp(-b * r) / (d * b * r)\n",
    "beta"
   ]
  },
  {
   "cell_type": "code",
   "execution_count": 100,
   "metadata": {
    "collapsed": false
   },
   "outputs": [
    {
     "data": {
      "image/png": "[encoded data removed]",
      "text/latex": [
       "$$1 + r \\left(b c - \\frac{b d}{2} - b\\right) + r^{2} \\left(- \\frac{c d}{2} b^{2} - b^{2} c + \\frac{b^{2} d^{2}}{6} + \\frac{b^{2} d}{2} + \\frac{b^{2}}{2}\\right) + r^{3} \\left(\\frac{b^{3} c}{6} d^{2} + \\frac{c d}{2} b^{3} + \\frac{b^{3} c}{2} - \\frac{b^{3} d^{3}}{24} - \\frac{b^{3} d^{2}}{6} - \\frac{b^{3} d}{4} - \\frac{b^{3}}{6}\\right) + r^{4} \\left(- \\frac{b^{4} c}{24} d^{3} - \\frac{b^{4} c}{6} d^{2} - \\frac{c d}{4} b^{4} - \\frac{b^{4} c}{6} + \\frac{b^{4} d^{4}}{120} + \\frac{b^{4} d^{3}}{24} + \\frac{b^{4} d^{2}}{12} + \\frac{b^{4} d}{12} + \\frac{b^{4}}{24}\\right) + r^{5} \\left(\\frac{b^{5} c}{120} d^{4} + \\frac{b^{5} c}{24} d^{3} + \\frac{b^{5} c}{12} d^{2} + \\frac{c d}{12} b^{5} + \\frac{b^{5} c}{24} - \\frac{b^{5} d^{5}}{720} - \\frac{b^{5} d^{4}}{120} - \\frac{b^{5} d^{3}}{48} - \\frac{b^{5} d^{2}}{36} - \\frac{b^{5} d}{48} - \\frac{b^{5}}{120}\\right) + \\mathcal{O}\\left(r^{6}\\right)$$"
      ],
      "text/plain": [
       "                           ⎛   2               2  2    2      2⎞      ⎛ 3    2\n",
       "      ⎛      b⋅d    ⎞    2 ⎜  b ⋅c⋅d    2     b ⋅d    b ⋅d   b ⎟    3 ⎜b ⋅c⋅d \n",
       "1 + r⋅⎜b⋅c - ─── - b⎟ + r ⋅⎜- ────── - b ⋅c + ───── + ──── + ──⎟ + r ⋅⎜───────\n",
       "      ⎝       2     ⎠      ⎝    2               6      2     2 ⎠      ⎝   6   \n",
       "\n",
       "    3        3      3  3    3  2    3      3⎞      ⎛   4    3    4    2    4  \n",
       "   b ⋅c⋅d   b ⋅c   b ⋅d    b ⋅d    b ⋅d   b ⎟    4 ⎜  b ⋅c⋅d    b ⋅c⋅d    b ⋅c\n",
       " + ────── + ──── - ───── - ───── - ──── - ──⎟ + r ⋅⎜- ─────── - ─────── - ────\n",
       "     2       2       24      6      4     6 ⎠      ⎝     24        6        4 \n",
       "\n",
       "      4      4  4    4  3    4  2    4      4⎞      ⎛ 5    4    5    3    5   \n",
       "⋅d   b ⋅c   b ⋅d    b ⋅d    b ⋅d    b ⋅d   b ⎟    5 ⎜b ⋅c⋅d    b ⋅c⋅d    b ⋅c⋅\n",
       "── - ──── + ───── + ───── + ───── + ──── + ──⎟ + r ⋅⎜─────── + ─────── + ─────\n",
       "      6      120      24      12     12    24⎠      ⎝  120        24        12\n",
       "\n",
       " 2    5        5      5  5    5  4    5  3    5  2    5       5⎞        \n",
       "d    b ⋅c⋅d   b ⋅c   b ⋅d    b ⋅d    b ⋅d    b ⋅d    b ⋅d    b ⎟    ⎛ 6⎞\n",
       "── + ────── + ──── - ───── - ───── - ───── - ───── - ──── - ───⎟ + O⎝r ⎠\n",
       "       12      24     720     120      48      36     48    120⎠        "
      ]
     },
     "execution_count": 100,
     "metadata": {},
     "output_type": "execute_result"
    }
   ],
   "source": [
    "beta.series(r)"
   ]
  },
  {
   "cell_type": "code",
   "execution_count": 101,
   "metadata": {
    "collapsed": false
   },
   "outputs": [
    {
     "data": {
      "image/png": "[encoded data removed]",
      "text/latex": [
       "$$\\frac{c e^{- b r}}{d r} \\left(1 - e^{- b d r}\\right) + \\frac{1}{r} \\left(b c r + 1\\right) e^{- b r} e^{- b d r} - \\frac{e^{- b r}}{d r} \\left(1 - e^{- b d r}\\right) \\left(b c r + 1\\right) - \\frac{e^{- b r}}{b d r^{2}} \\left(1 - e^{- b d r}\\right) \\left(b c r + 1\\right)$$"
      ],
      "text/plain": [
       "  ⎛     -b⋅d⋅r⎞  -b⋅r                -b⋅r  -b⋅d⋅r   ⎛     -b⋅d⋅r⎞             \n",
       "c⋅⎝1 - ℯ      ⎠⋅ℯ       (b⋅c⋅r + 1)⋅ℯ    ⋅ℯ         ⎝1 - ℯ      ⎠⋅(b⋅c⋅r + 1)⋅\n",
       "───────────────────── + ───────────────────────── - ──────────────────────────\n",
       "         d⋅r                        r                             d⋅r         \n",
       "                                                                              \n",
       "\n",
       " -b⋅r   ⎛     -b⋅d⋅r⎞              -b⋅r\n",
       "ℯ       ⎝1 - ℯ      ⎠⋅(b⋅c⋅r + 1)⋅ℯ    \n",
       "───── - ───────────────────────────────\n",
       "                          2            \n",
       "                     b⋅d⋅r             "
      ]
     },
     "execution_count": 101,
     "metadata": {},
     "output_type": "execute_result"
    }
   ],
   "source": [
    "diff(beta, r)"
   ]
  },
  {
   "cell_type": "code",
   "execution_count": 104,
   "metadata": {
    "collapsed": false
   },
   "outputs": [
    {
     "name": "stdout",
     "output_type": "stream",
     "text": [
      "\\frac{e^{- b r}}{b d r} \\left(1 - e^{- b d r}\\right) \\left(b c r + 1\\right)\n"
     ]
    }
   ],
   "source": [
    "print(latex(beta))"
   ]
  },
  {
   "cell_type": "code",
   "execution_count": 105,
   "metadata": {
    "collapsed": false
   },
   "outputs": [
    {
     "name": "stdout",
     "output_type": "stream",
     "text": [
      "\\left(- 2 b c r e^{- b d r} - \\frac{2 b}{d} c r e^{- b d r} + b d r \\left(b c r + 1\\right) e^{- b d r} + 2 b r \\left(b c r + 1\\right) e^{- b d r} + \\frac{b r}{d} \\left(b c r + 1\\right) e^{- b d r} - \\frac{c}{d} e^{- b d r} + \\frac{2 c}{d^{2}} \\left(1 - e^{- b d r}\\right) + \\frac{1}{d} \\left(b c r + 1\\right) e^{- b d r} - \\frac{1}{d^{2}} \\left(1 - e^{- b d r}\\right) \\left(b c r + 1\\right) + \\frac{c}{b d^{2} r} \\left(1 - e^{- b d r}\\right) + \\frac{e^{- b d r}}{b d r} \\left(b c r + 1\\right) - \\frac{1}{b d^{2} r} \\left(1 - e^{- b d r}\\right) \\left(b c r + 1\\right) - \\frac{1}{b^{2} d^{2} r^{2}} \\left(1 - e^{- b d r}\\right) \\left(b c r + 1\\right)\\right) e^{- b r}\n"
     ]
    }
   ],
   "source": [
    "print(latex(diff(beta, r, b, d)))"
   ]
  },
  {
   "cell_type": "markdown",
   "metadata": {},
   "source": [
    "Look at all the LaTeX I wrote ;)\n",
    "\n",
    "$\\frac{\\partial{d}}{\\partial{d}} \\frac{\\partial{d}}{\\partial{b}} \\frac{\\partial{d}}{\\partial{r}} \\Big[\\frac{e^{- b r}}{b d r} \\left(1 - e^{- b d r}\\right) \\left(b c r + 1\\right)\\Big] = \\left(- 2 b c r e^{- b d r} - \\frac{2 b}{d} c r e^{- b d r} + b d r \\left(b c r + 1\\right) e^{- b d r} + 2 b r \\left(b c r + 1\\right) e^{- b d r} + \\frac{b r}{d} \\left(b c r + 1\\right) e^{- b d r} - \\frac{c}{d} e^{- b d r} + \\frac{2 c}{d^{2}} \\left(1 - e^{- b d r}\\right) + \\frac{1}{d} \\left(b c r + 1\\right) e^{- b d r} - \\frac{1}{d^{2}} \\left(1 - e^{- b d r}\\right) \\left(b c r + 1\\right) + \\frac{c}{b d^{2} r} \\left(1 - e^{- b d r}\\right) + \\frac{e^{- b d r}}{b d r} \\left(b c r + 1\\right) - \\frac{1}{b d^{2} r} \\left(1 - e^{- b d r}\\right) \\left(b c r + 1\\right) - \\frac{1}{b^{2} d^{2} r^{2}} \\left(1 - e^{- b d r}\\right) \\left(b c r + 1\\right)\\right) e^{- b r}$"
   ]
  },
  {
   "cell_type": "code",
   "execution_count": null,
   "metadata": {
    "collapsed": true
   },
   "outputs": [],
   "source": []
  }
 ],
 "metadata": {
  "kernelspec": {
   "display_name": "Python 3",
   "language": "python",
   "name": "python3"
  },
  "language_info": {
   "codemirror_mode": {
    "name": "ipython",
    "version": 3
   },
   "file_extension": ".py",
   "mimetype": "text/x-python",
   "name": "python",
   "nbconvert_exporter": "python",
   "pygments_lexer": "ipython3",
   "version": "3.5.1"
  }
 },
 "nbformat": 4,
 "nbformat_minor": 0
}
