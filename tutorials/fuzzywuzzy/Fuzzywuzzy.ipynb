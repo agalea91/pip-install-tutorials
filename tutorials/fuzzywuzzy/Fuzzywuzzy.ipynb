{
 "cells": [
  {
   "cell_type": "code",
   "execution_count": 68,
   "metadata": {
    "collapsed": false
   },
   "outputs": [
    {
     "data": {
      "text/plain": [
       "'3.5.1 |Continuum Analytics, Inc.| (default, Jan 29 2016, 15:01:46) [MSC v.1900 64 bit (AMD64)]'"
      ]
     },
     "execution_count": 68,
     "metadata": {},
     "output_type": "execute_result"
    }
   ],
   "source": [
    "import sys\n",
    "sys.path.append('C:\\Anaconda3\\Lib\\site-packages') # Link to my local libraries\n",
    "# import warnings\n",
    "# warnings.filterwarnings('ignore')\n",
    "import numpy as np\n",
    "import os\n",
    "import glob\n",
    "import json\n",
    "import matplotlib.pyplot as plt\n",
    "plt.style.use('seaborn-whitegrid')\n",
    "%matplotlib inline\n",
    "sys.version"
   ]
  },
  {
   "cell_type": "markdown",
   "metadata": {},
   "source": [
    "Author: Alex Galea   \n",
    "Date: September, 2016"
   ]
  },
  {
   "cell_type": "markdown",
   "metadata": {},
   "source": [
    "Fuzzywuzzy can be installed with\n",
    "\n",
    "`pip install fuzzywuzzy`\n",
    "\n",
    "To easily check if the package is already installed or has installed properly, boot up the python interpreter and try to import it.\n",
    "\n",
    "## Fuzzywuzzy Tutorial\n",
    "\n",
    "Description (from the repository readme):\n",
    "\n",
    "Fuzzy __string matching__ like a boss. It uses __Levenshtein Distance__ to calculate the differences between sequences in a simple-to-use package."
   ]
  },
  {
   "cell_type": "markdown",
   "metadata": {},
   "source": [
    "__What is the Levenshtein Distance metric for comparing strings?__\n",
    "\n",
    "Here is the algorithm:\n",
    "\n",
    "![](pictures/levenshtein-distance-1.png)\n",
    "\n",
    "For example we start with:\n",
    "\n",
    "![](pictures/levenshtein-distance-2.png)\n",
    "\n",
    "and end with\n",
    "\n",
    "![](pictures/levenshtein-distance-3.png)\n",
    "\n",
    "The Levenshtein distance in this example is 2."
   ]
  },
  {
   "cell_type": "markdown",
   "metadata": {},
   "source": [
    "### The data"
   ]
  },
  {
   "cell_type": "markdown",
   "metadata": {},
   "source": [
    "I set up a folder named `source_text` and put a .json file in there containing a bunch of hockey tweets. It is available for download on github along with this notebook."
   ]
  },
  {
   "cell_type": "code",
   "execution_count": 2,
   "metadata": {
    "collapsed": false
   },
   "outputs": [
    {
     "data": {
      "text/plain": [
       "['#nhl_2016-05-07.json']"
      ]
     },
     "execution_count": 2,
     "metadata": {},
     "output_type": "execute_result"
    }
   ],
   "source": [
    "os.listdir('source_text')"
   ]
  },
  {
   "cell_type": "markdown",
   "metadata": {},
   "source": [
    "In this tutorial we will see:\n",
    " - simple examples of fuzzy matching scores\n",
    " - given a search phrase, find closely matching items from a list of strings"
   ]
  },
  {
   "cell_type": "code",
   "execution_count": 3,
   "metadata": {
    "collapsed": false
   },
   "outputs": [
    {
     "name": "stderr",
     "output_type": "stream",
     "text": [
      "C:\\Anaconda3\\Lib\\site-packages\\fuzzywuzzy\\fuzz.py:35: UserWarning: Using slow pure-python SequenceMatcher. Install python-Levenshtein to remove this warning\n",
      "  warnings.warn('Using slow pure-python SequenceMatcher. Install python-Levenshtein to remove this warning')\n"
     ]
    }
   ],
   "source": [
    "from fuzzywuzzy import fuzz\n",
    "from fuzzywuzzy import process"
   ]
  },
  {
   "cell_type": "markdown",
   "metadata": {},
   "source": [
    "![](modules.png)"
   ]
  },
  {
   "cell_type": "markdown",
   "metadata": {},
   "source": [
    "### The fuzz module"
   ]
  },
  {
   "cell_type": "markdown",
   "metadata": {},
   "source": [
    "Ratio VS partial ratio"
   ]
  },
  {
   "cell_type": "code",
   "execution_count": 4,
   "metadata": {
    "collapsed": false
   },
   "outputs": [
    {
     "data": {
      "text/plain": [
       "73"
      ]
     },
     "execution_count": 4,
     "metadata": {},
     "output_type": "execute_result"
    }
   ],
   "source": [
    "fuzz.ratio('gumbo', 'gambol')"
   ]
  },
  {
   "cell_type": "code",
   "execution_count": 5,
   "metadata": {
    "collapsed": false
   },
   "outputs": [
    {
     "data": {
      "text/plain": [
       "80"
      ]
     },
     "execution_count": 5,
     "metadata": {},
     "output_type": "execute_result"
    }
   ],
   "source": [
    "fuzz.partial_ratio('gumbo', 'gambol')"
   ]
  },
  {
   "cell_type": "code",
   "execution_count": 6,
   "metadata": {
    "collapsed": false
   },
   "outputs": [
    {
     "data": {
      "text/plain": [
       "47"
      ]
     },
     "execution_count": 6,
     "metadata": {},
     "output_type": "execute_result"
    }
   ],
   "source": [
    "fuzz.ratio('gumbo', 'gambol extra')"
   ]
  },
  {
   "cell_type": "code",
   "execution_count": 7,
   "metadata": {
    "collapsed": false
   },
   "outputs": [
    {
     "data": {
      "text/plain": [
       "80"
      ]
     },
     "execution_count": 7,
     "metadata": {},
     "output_type": "execute_result"
    }
   ],
   "source": [
    "fuzz.partial_ratio('gumbo', 'gambol extra')"
   ]
  },
  {
   "cell_type": "code",
   "execution_count": 8,
   "metadata": {
    "collapsed": false
   },
   "outputs": [
    {
     "data": {
      "text/plain": [
       "100"
      ]
     },
     "execution_count": 8,
     "metadata": {},
     "output_type": "execute_result"
    }
   ],
   "source": [
    "fuzz.partial_ratio('gumbo', 'gumbo extra')"
   ]
  },
  {
   "cell_type": "markdown",
   "metadata": {},
   "source": [
    "Compare ordered strings"
   ]
  },
  {
   "cell_type": "code",
   "execution_count": 9,
   "metadata": {
    "collapsed": false
   },
   "outputs": [
    {
     "data": {
      "text/plain": [
       "100"
      ]
     },
     "execution_count": 9,
     "metadata": {},
     "output_type": "execute_result"
    }
   ],
   "source": [
    "# Each string it sorted before comparing\n",
    "fuzz.token_sort_ratio('Calgary AB',\n",
    "                      'ab calgary')"
   ]
  },
  {
   "cell_type": "code",
   "execution_count": 10,
   "metadata": {
    "collapsed": false
   },
   "outputs": [
    {
     "data": {
      "text/plain": [
       "74"
      ]
     },
     "execution_count": 10,
     "metadata": {},
     "output_type": "execute_result"
    }
   ],
   "source": [
    "fuzz.token_sort_ratio('Calgary AB',\n",
    "                      'ab calgary canada')"
   ]
  },
  {
   "cell_type": "code",
   "execution_count": 11,
   "metadata": {
    "collapsed": false
   },
   "outputs": [
    {
     "data": {
      "text/plain": [
       "100"
      ]
     },
     "execution_count": 11,
     "metadata": {},
     "output_type": "execute_result"
    }
   ],
   "source": [
    "fuzz.partial_token_sort_ratio('Calgary AB',\n",
    "                              'ab calgary canada')"
   ]
  },
  {
   "cell_type": "code",
   "execution_count": 12,
   "metadata": {
    "collapsed": false
   },
   "outputs": [
    {
     "data": {
      "text/plain": [
       "67"
      ]
     },
     "execution_count": 12,
     "metadata": {},
     "output_type": "execute_result"
    }
   ],
   "source": [
    "fuzz.token_sort_ratio('Calgary AB CA',\n",
    "                      'ab calgary canada')"
   ]
  },
  {
   "cell_type": "code",
   "execution_count": 13,
   "metadata": {
    "collapsed": false
   },
   "outputs": [
    {
     "data": {
      "text/plain": [
       "90"
      ]
     },
     "execution_count": 13,
     "metadata": {},
     "output_type": "execute_result"
    }
   ],
   "source": [
    "fuzz.token_sort_ratio('Calgary AB CAN',\n",
    "                      'ab calgary canada')"
   ]
  },
  {
   "cell_type": "code",
   "execution_count": 14,
   "metadata": {
    "collapsed": false
   },
   "outputs": [
    {
     "data": {
      "text/plain": [
       "100"
      ]
     },
     "execution_count": 14,
     "metadata": {},
     "output_type": "execute_result"
    }
   ],
   "source": [
    "fuzz.partial_token_sort_ratio('Calgary AB CAN',\n",
    "                              'ab calgary canada')"
   ]
  },
  {
   "cell_type": "code",
   "execution_count": 15,
   "metadata": {
    "collapsed": false
   },
   "outputs": [
    {
     "data": {
      "text/plain": [
       "[('QRatio', 50),\n",
       " ('WRatio', 80),\n",
       " ('ratio', 41),\n",
       " ('token_sort_ratio', 70),\n",
       " ('partial_token_sort_ratio', 67)]"
      ]
     },
     "execution_count": 15,
     "metadata": {},
     "output_type": "execute_result"
    }
   ],
   "source": [
    "str_1 = 'Calgary AB CA is cold'\n",
    "str_2 = 'cold: ab calgary canada'\n",
    "\n",
    "names = ['QRatio', 'WRatio', 'ratio',\n",
    "         'token_sort_ratio',\n",
    "         'partial_token_sort_ratio']\n",
    "\n",
    "scores = [fuzz.QRatio(str_1, str_2),\n",
    "          fuzz.WRatio(str_1, str_2),\n",
    "          fuzz.ratio(str_1, str_2),\n",
    "          fuzz.token_sort_ratio(str_1, str_2),\n",
    "          fuzz.partial_token_sort_ratio(str_1, str_2)]\n",
    "\n",
    "list(zip(names, scores))"
   ]
  },
  {
   "cell_type": "markdown",
   "metadata": {},
   "source": [
    "### Processing lists of strings"
   ]
  },
  {
   "cell_type": "markdown",
   "metadata": {},
   "source": [
    "Load our NHL data"
   ]
  },
  {
   "cell_type": "code",
   "execution_count": 85,
   "metadata": {
    "collapsed": false
   },
   "outputs": [],
   "source": [
    "def reduce_file(imod):\n",
    "    f_new = open('source_text/#nhl-tweets.json', 'w')\n",
    "    with open('source_text/#nhl_2016-05-07.json', 'r') as f:\n",
    "        for i, line in enumerate(f.readlines()):\n",
    "            if i%imod == 0:\n",
    "                f_new.write(line)\n",
    "    f_new.close()\n",
    "\n",
    "def load_tweets(file):\n",
    "    with open(file, 'r') as f:\n",
    "        tweets = (json.loads(line) for line in f.readlines())\n",
    "    return tweets\n",
    "\n",
    "tweets = load_tweets('source_text/#nhl_2016-05-07.json')"
   ]
  },
  {
   "cell_type": "code",
   "execution_count": 86,
   "metadata": {
    "collapsed": false
   },
   "outputs": [
    {
     "data": {
      "text/plain": [
       "8716"
      ]
     },
     "execution_count": 86,
     "metadata": {},
     "output_type": "execute_result"
    }
   ],
   "source": [
    "text = [t['text'] for t in tweets]\n",
    "len(text)"
   ]
  },
  {
   "cell_type": "code",
   "execution_count": 87,
   "metadata": {
    "collapsed": false
   },
   "outputs": [
    {
     "data": {
      "text/plain": [
       "['#BostonBruins #NHL Boston Bruins 1.5oz. Shot Glass:  $5.99End Date: Sunday Jun-5-2016 16:32:0... https://t.co/pGnAPQTYH0 #Boston #Bruins',\n",
       " 'Braden Holtby / NHLPA names Kane, Benn and Holtby as finalists for Ted Lindsay Award https://t.co/xGAMqnRRMM #NHL',\n",
       " \"Matt Carle / Carle is in the lineup for Friday's Game 4 against the Islanders, https://t.co/zTtLfeCgJU #NHL\"]"
      ]
     },
     "execution_count": 87,
     "metadata": {},
     "output_type": "execute_result"
    }
   ],
   "source": [
    "text[-3:]"
   ]
  },
  {
   "cell_type": "markdown",
   "metadata": {},
   "source": [
    "Finding matches to given phrase in a list of items"
   ]
  },
  {
   "cell_type": "code",
   "execution_count": 92,
   "metadata": {
    "collapsed": false
   },
   "outputs": [
    {
     "name": "stdout",
     "output_type": "stream",
     "text": [
      "Wall time: 15.6 ms\n"
     ]
    },
    {
     "data": {
      "text/plain": [
       "127"
      ]
     },
     "execution_count": 92,
     "metadata": {},
     "output_type": "execute_result"
    }
   ],
   "source": [
    "# List comprehension method\n",
    "search = ['san jose sharks', 'SAN JOSE SHARKS', 'san jose', 'San Jose', 'sharks']\n",
    "%time len([t for t in text if sum([s in t for s in search])])"
   ]
  },
  {
   "cell_type": "code",
   "execution_count": 57,
   "metadata": {
    "collapsed": true
   },
   "outputs": [],
   "source": [
    "process.extract?"
   ]
  },
  {
   "cell_type": "code",
   "execution_count": 94,
   "metadata": {
    "collapsed": false
   },
   "outputs": [
    {
     "name": "stdout",
     "output_type": "stream",
     "text": [
      "Wall time: 16.3 s\n"
     ]
    },
    {
     "data": {
      "text/plain": [
       "[('#NHL #hockey NHL San Jose Sharks 68114091 Plastic Sign, 11 x 17\", Black https://t.co/iBPszOpupK https://t.co/YNCYibJwJP',\n",
       "  90),\n",
       " ('San Jose Sharks ‘No Goal’ A Major NHL Problem - https://t.co/kCS7D6mtqD #NHL https://t.co/DLUTmpjZXF',\n",
       "  90),\n",
       " (\"San Jose Sharks 'No Goal' A Major NHL Problem - The Hockey Writers https://t.co/63DN2UUfIM #NHL\",\n",
       "  90),\n",
       " (\"Who will win tonight's game? Nashville Predators or San Jose Sharks? #Preds #SJSharks #SJSvsNSH #NHL\",\n",
       "  90),\n",
       " ('Picks Combinado: #MLB San Francisco, #NBA Heat,  #NHL San Jose Sharks, #SerieA Inter.  Todos a ganar',\n",
       "  90)]"
      ]
     },
     "execution_count": 94,
     "metadata": {},
     "output_type": "execute_result"
    }
   ],
   "source": [
    "search_phrase = 'san jose sharks'\n",
    "%time process.extract(search_phrase, text)"
   ]
  },
  {
   "cell_type": "code",
   "execution_count": 104,
   "metadata": {
    "collapsed": false
   },
   "outputs": [
    {
     "name": "stdout",
     "output_type": "stream",
     "text": [
      "Wall time: 18.3 s\n"
     ]
    }
   ],
   "source": [
    "%time SJS_fuzzy = process.extract(search_phrase, text, limit=len(text))"
   ]
  },
  {
   "cell_type": "code",
   "execution_count": 96,
   "metadata": {
    "collapsed": false
   },
   "outputs": [
    {
     "data": {
      "text/plain": [
       "(8716, 8716)"
      ]
     },
     "execution_count": 96,
     "metadata": {},
     "output_type": "execute_result"
    }
   ],
   "source": [
    "len(SJS_fuzzy), len(text)"
   ]
  },
  {
   "cell_type": "markdown",
   "metadata": {},
   "source": [
    "How are the scores for each item distributed?"
   ]
  },
  {
   "cell_type": "code",
   "execution_count": null,
   "metadata": {
    "collapsed": true
   },
   "outputs": [],
   "source": [
    "plt.hist([t[1] for t in SJS_fuzzy], bins=30, alpha=0.5)\n",
    "plt.xlabel('Fuzzy score');"
   ]
  },
  {
   "cell_type": "markdown",
   "metadata": {},
   "source": [
    "Let's filter out the low scores."
   ]
  },
  {
   "cell_type": "code",
   "execution_count": 98,
   "metadata": {
    "collapsed": false
   },
   "outputs": [
    {
     "data": {
      "text/plain": [
       "267"
      ]
     },
     "execution_count": 98,
     "metadata": {},
     "output_type": "execute_result"
    }
   ],
   "source": [
    "SJS_fuzzy = [t for t in SJS_fuzzy if t[1] > 50]\n",
    "len(SJS_fuzzy)"
   ]
  },
  {
   "cell_type": "code",
   "execution_count": 99,
   "metadata": {
    "collapsed": false
   },
   "outputs": [
    {
     "data": {
      "text/plain": [
       "[('#NHL #Devils 5 Best Exercises For Successful Weight Loss https://t.co/YNkGahROPv #Share',\n",
       "  51),\n",
       " ('I wonder if the keeper of the #NHL Stanley Cup talks to it in their private time?',\n",
       "  51),\n",
       " ('#NHL #Hockey Dallas #Stars Adjustable Snap Back Hat by Reebok https://t.co/MmUMhsO42H #Dallas https://t.co/wexa5drjFw',\n",
       "  51),\n",
       " ('Spezza, Stars settled in for long series https://t.co/rWrgKqW0S6 #nhl', 51),\n",
       " ('#NHL #Devils Losing Weight Without Dieting - The Chongqing Way… https://t.co/0pR5KgKyY3 #Share https://t.co/ivrEkCixNS',\n",
       "  51)]"
      ]
     },
     "execution_count": 99,
     "metadata": {},
     "output_type": "execute_result"
    }
   ],
   "source": [
    "SJS_fuzzy[-5:]"
   ]
  },
  {
   "cell_type": "markdown",
   "metadata": {},
   "source": [
    "More filtering is clearly needed"
   ]
  },
  {
   "cell_type": "code",
   "execution_count": null,
   "metadata": {
    "collapsed": true
   },
   "outputs": [],
   "source": [
    "SJS_fuzzy = [t for t in SJS_fuzzy if t[1] > 80]\n",
    "len(SJS_fuzzy)"
   ]
  },
  {
   "cell_type": "code",
   "execution_count": 106,
   "metadata": {
    "collapsed": false
   },
   "outputs": [
    {
     "data": {
      "text/plain": [
       "[('May 06, 2016 at 09:01PM Support the San Jose Earthquakes #NHL #Soccer team',\n",
       "  86),\n",
       " ('#SanJose San Jose #Sharks Authentic Hooded Sweatshirt https://t.co/qSBFCOiBEA #NHL #Hockey https://t.co/LIjyAkfCcL',\n",
       "  86),\n",
       " ('#SanJose SAN JOSE #Sharks FAN PACK https://t.co/AbmdHyIzPB #NHL #Hockey https://t.co/3Vek3okLVW',\n",
       "  86),\n",
       " ('The #rinnewall is going to San Jose to watch game 5. #letsgopreds beat the #sharks. #Predators #hockey #nhl #playoffs',\n",
       "  86),\n",
       " ('May 06, 2016 at 08:02PM Support the San Jose Earthquakes #NHL #Soccer team',\n",
       "  86)]"
      ]
     },
     "execution_count": 106,
     "metadata": {},
     "output_type": "execute_result"
    }
   ],
   "source": [
    "SJS_fuzzy[-5:]"
   ]
  },
  {
   "cell_type": "code",
   "execution_count": 113,
   "metadata": {
    "collapsed": true
   },
   "outputs": [],
   "source": [
    "process.dedupe?"
   ]
  },
  {
   "cell_type": "code",
   "execution_count": 110,
   "metadata": {
    "collapsed": false
   },
   "outputs": [
    {
     "data": {
      "text/plain": [
       "[('#NHL #hockey NHL San Jose Sharks 68114091 Plastic Sign, 11 x 17\", Black https://t.co/iBPszOpupK https://t.co/YNCYibJwJP',\n",
       "  90),\n",
       " ('San Jose Sharks ‘No Goal’ A Major NHL Problem - https://t.co/kCS7D6mtqD #NHL https://t.co/DLUTmpjZXF',\n",
       "  90),\n",
       " (\"San Jose Sharks 'No Goal' A Major NHL Problem - The Hockey Writers https://t.co/63DN2UUfIM #NHL\",\n",
       "  90),\n",
       " (\"Who will win tonight's game? Nashville Predators or San Jose Sharks? #Preds #SJSharks #SJSvsNSH #NHL\",\n",
       "  90),\n",
       " ('Picks Combinado: #MLB San Francisco, #NBA Heat,  #NHL San Jose Sharks, #SerieA Inter.  Todos a ganar',\n",
       "  90)]"
      ]
     },
     "execution_count": 110,
     "metadata": {},
     "output_type": "execute_result"
    }
   ],
   "source": [
    "# does nothing different ...\n",
    "# process.extractBests('san jose sharks', text)"
   ]
  },
  {
   "cell_type": "code",
   "execution_count": 111,
   "metadata": {
    "collapsed": false
   },
   "outputs": [
    {
     "data": {
      "text/plain": [
       "[('#NHL #hockey NHL San Jose Sharks 68114091 Plastic Sign, 11 x 17\", Black https://t.co/iBPszOpupK https://t.co/YNCYibJwJP',\n",
       "  90),\n",
       " ('San Jose Sharks ‘No Goal’ A Major NHL Problem - https://t.co/kCS7D6mtqD #NHL https://t.co/DLUTmpjZXF',\n",
       "  90),\n",
       " (\"San Jose Sharks 'No Goal' A Major NHL Problem - The Hockey Writers https://t.co/63DN2UUfIM #NHL\",\n",
       "  90),\n",
       " (\"Who will win tonight's game? Nashville Predators or San Jose Sharks? #Preds #SJSharks #SJSvsNSH #NHL\",\n",
       "  90),\n",
       " ('Picks Combinado: #MLB San Francisco, #NBA Heat,  #NHL San Jose Sharks, #SerieA Inter.  Todos a ganar',\n",
       "  90)]"
      ]
     },
     "execution_count": 111,
     "metadata": {},
     "output_type": "execute_result"
    }
   ],
   "source": [
    "process.extract('san jose sharks', text)"
   ]
  },
  {
   "cell_type": "code",
   "execution_count": null,
   "metadata": {
    "collapsed": true
   },
   "outputs": [],
   "source": []
  }
 ],
 "metadata": {
  "kernelspec": {
   "display_name": "Python 3",
   "language": "python",
   "name": "python3"
  },
  "language_info": {
   "codemirror_mode": {
    "name": "ipython",
    "version": 3
   },
   "file_extension": ".py",
   "mimetype": "text/x-python",
   "name": "python",
   "nbconvert_exporter": "python",
   "pygments_lexer": "ipython3",
   "version": "3.5.1"
  }
 },
 "nbformat": 4,
 "nbformat_minor": 0
}
